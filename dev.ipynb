{
 "cells": [
  {
   "cell_type": "code",
   "execution_count": 4,
   "metadata": {},
   "outputs": [],
   "source": [
    "# Import necessary packages\n",
    "import geopandas as gpd\n",
    "import osmnx as ox\n",
    "\n",
    "place_name = \"Youssoufia, Morocco\"\n",
    "G = ox.graph_from_place(place_name, network_type='all_private')\n",
    "\n",
    "gdf = gpd.read_file('map.geojson')"
   ]
  },
  {
   "cell_type": "code",
   "execution_count": 5,
   "metadata": {},
   "outputs": [],
   "source": [
    "# Convert the graph to GeoDataFrames\n",
    "gdf_nodes, gdf_edges = ox.graph_to_gdfs(G)"
   ]
  },
  {
   "cell_type": "code",
   "execution_count": 6,
   "metadata": {},
   "outputs": [],
   "source": [
    "gdf_nodes.drop(gdf_nodes[gdf_nodes['highway'].isnull()].index, inplace=True)"
   ]
  },
  {
   "cell_type": "code",
   "execution_count": 64,
   "metadata": {},
   "outputs": [
    {
     "data": {
      "text/plain": [
       "<shapely.coords.CoordinateSequence at 0x7f9efbd56920>"
      ]
     },
     "execution_count": 64,
     "metadata": {},
     "output_type": "execute_result"
    }
   ],
   "source": [
    "gdf_nodes['geometry'][1109007239].coords"
   ]
  },
  {
   "cell_type": "code",
   "execution_count": 69,
   "metadata": {},
   "outputs": [
    {
     "name": "stdout",
     "output_type": "stream",
     "text": [
      "6253.675183772957\n"
     ]
    }
   ],
   "source": [
    "import folium\n",
    "from folium.features import ClickForMarker, Tooltip\n",
    "# Importing the geodesic module from the library\n",
    "from geopy.distance import geodesic\n",
    "\n",
    "# Loading the lat-long data for Kolkata & Delhi\n",
    "kolkata = gdf_nodes['geometry'][1109007239].coords\n",
    "delhi = point_dicts['mini_roundabout']\n",
    "\n",
    "# Print the distance calculated in km\n",
    "print(geodesic(kolkata, delhi).km)"
   ]
  },
  {
   "cell_type": "code",
   "execution_count": 42,
   "metadata": {},
   "outputs": [],
   "source": [
    "# Capture click event\n",
    "\n",
    "def print_hello(event):\n",
    "    print('hello point', event.popup)"
   ]
  },
  {
   "cell_type": "code",
   "execution_count": 96,
   "metadata": {},
   "outputs": [
    {
     "name": "stderr",
     "output_type": "stream",
     "text": [
      "/tmp/ipykernel_9971/731389954.py:17: UserWarning: color argument of Icon should be one of: {'orange', 'pink', 'beige', 'purple', 'darkblue', 'darkpurple', 'green', 'darkred', 'lightblue', 'black', 'gray', 'white', 'lightgreen', 'red', 'cadetblue', 'lightgray', 'blue', 'darkgreen', 'lightred'}.\n",
      "  folium.Marker(location=[y.geometry.y, y.geometry.x], popup=y['name'], icon=folium.Icon(color=color)).add_to(map_youssoufia)\n"
     ]
    },
    {
     "data": {
      "text/plain": [
       "<folium.features.LatLngPopup at 0x7f9ef2a0fbe0>"
      ]
     },
     "execution_count": 96,
     "metadata": {},
     "output_type": "execute_result"
    }
   ],
   "source": [
    "# Créer une carte centrée sur Youssoufia\n",
    "map_youssoufia = folium.Map(location=[32.23630130013652, -8.51364643783117], zoom_start=13)\n",
    "\n",
    "point_dicts = {}\n",
    "\n",
    "# Ajouter les nœuds sur la carte\n",
    "for idx, node in gdf_nodes.iterrows():\n",
    "    marker = folium.Marker(\n",
    "        [node.geometry.y, node.geometry.x], \n",
    "        popup=node['highway']\n",
    "    )\n",
    "    marker.add_to(map_youssoufia)\n",
    "\n",
    "for x, y in gdf.iterrows():\n",
    "    if x >= 2:\n",
    "        color = y['marker-color']\n",
    "        folium.Marker(location=[y.geometry.y, y.geometry.x], popup=y['name'], icon=folium.Icon(color=color)).add_to(map_youssoufia)\n",
    "    else :\n",
    "        folium.PolyLine(locations=y.geometry.coords, color='blue').add_to(map_youssoufia)\n",
    "\n",
    "# Ajouter les arêtes sur la carte\n",
    "for idx, edge in gdf_edges.iterrows():\n",
    "    folium.PolyLine(locations=edge.geometry.coords, color='green').add_to(map_youssoufia)\n",
    "\n",
    "# Listen for click events\n",
    "# map_youssoufia.add_child(ClickForMarker(\"<b>Lat:</b> ${lat}<br /><b>Lon:</b> ${lng}\"))\n",
    "\n",
    "# Add latlong folium\n",
    "folium.LatLngPopup().add_to(map_youssoufia)"
   ]
  },
  {
   "cell_type": "code",
   "execution_count": 106,
   "metadata": {},
   "outputs": [],
   "source": [
    "# Find popup slice\n",
    "def find_popup_slice(html):\n",
    "    '''\n",
    "    Find the strating and ending index of popup function\n",
    "    '''\n",
    "\n",
    "    pattern = 'function latLngPop(e)'\n",
    "\n",
    "    # Starting index\n",
    "    starting_index = html.find(pattern)\n",
    "\n",
    "    # Ending index\n",
    "    tmp_html = html[starting_index:]\n",
    "\n",
    "    # Look over the tmp html\n",
    "    found = 0\n",
    "    index = 0\n",
    "    openning_found = False\n",
    "    while not openning_found or found > 0:\n",
    "        if tmp_html[index] == '{':\n",
    "            found += 1\n",
    "            openning_found = True\n",
    "        elif tmp_html[index] == '}':\n",
    "            found -= 1\n",
    "\n",
    "        index += 1\n",
    "\n",
    "    # Determine the ending index\n",
    "    ending_index = starting_index + index\n",
    "\n",
    "    return starting_index, ending_index"
   ]
  },
  {
   "cell_type": "code",
   "execution_count": 133,
   "metadata": {},
   "outputs": [],
   "source": [
    "# Find map name\n",
    "def find_map_variable_name(html):\n",
    "    pattern = 'var map_'\n",
    "\n",
    "    starting_index = html.find(pattern) + 4\n",
    "    tmp_html = html[starting_index:]\n",
    "    ending_index = tmp_html.find(' =') + starting_index\n",
    "\n",
    "    return html[starting_index:ending_index]\n",
    "\n",
    "# Find popup name\n",
    "def find_popup_variable_name(html):\n",
    "    pattern = 'var lat_lng'\n",
    "\n",
    "    starting_index = html.find(pattern) + 4\n",
    "    tmp_html = html[starting_index:]\n",
    "    ending_index = tmp_html.find(' =') + starting_index\n",
    "\n",
    "    return html[starting_index:ending_index]"
   ]
  },
  {
   "cell_type": "code",
   "execution_count": 146,
   "metadata": {},
   "outputs": [],
   "source": [
    "# Define custom code function\n",
    "def custom_code(popup_variable_name, map_variable_name):\n",
    "    return '''\n",
    "        // Custom code\n",
    "        function latLngPop(e) {\n",
    "            %s\n",
    "                .setLatLng(e.latlng)\n",
    "                .setContent(`\n",
    "                    lat: ${e.latlng.lat}, lng: ${e.latlng.lng}\n",
    "                    <button onClick=\"\n",
    "\n",
    "                        fetch('http://localhost:3001', {\n",
    "                            method: 'POST',\n",
    "                            mode: 'no-cors',\n",
    "                            headers: {\n",
    "                                'Accept': 'application/json',\n",
    "                                'Content-Type': 'application/json'\n",
    "                            },\n",
    "                            body: JSON.stringify({\n",
    "                                latitude: e.latlng.lat,\n",
    "                                longitude: e.latlng.lng\n",
    "                            })\n",
    "                        });\n",
    "\n",
    "                        L.marker(\n",
    "                            [e.latlng.lat, e.latlng.lng],\n",
    "                            {}\n",
    "                        ).addTo(%s);\n",
    "                    \"> \n",
    "                    Save coordinate\n",
    "                    </button>\n",
    "                    <button onClick=\"\n",
    "                        fetch('http://localhost:3001', {\n",
    "                            method: 'POST',\n",
    "                            mode: 'no-cors',\n",
    "                            headers: {\n",
    "                                'Accept': 'application/json',\n",
    "                                'Content-Type': 'application/json'\n",
    "                            },\n",
    "                            body: 'q'\n",
    "                        });\n",
    "                    \">\n",
    "                        Quit\n",
    "                    </button>\n",
    "                `).openOn(%s);\n",
    "        }\n",
    "        // End custom code\n",
    "    '''% (popup_variable_name, map_variable_name, map_variable_name)"
   ]
  },
  {
   "cell_type": "code",
   "execution_count": 144,
   "metadata": {},
   "outputs": [],
   "source": [
    "# Create folium map \n",
    "def create_folium_map(map_file, center_coord):\n",
    "    \n",
    "    # Create a folium map\n",
    "    map_youssoufia = folium.Map(location=center_coord, zoom_start=13)\n",
    "\n",
    "    # Add popup\n",
    "    folium.LatLngPopup().add_to(map_youssoufia)\n",
    "\n",
    "    # Save the map to html\n",
    "    map_youssoufia.save(map_file)\n",
    "\n",
    "    # Read the folium file\n",
    "    html = None\n",
    "    with open(map_file, 'r') as mapfile:\n",
    "        html = mapfile.read()\n",
    "\n",
    "    # Determine popup function indecises\n",
    "    pstart, pend = find_popup_slice(html) \n",
    "\n",
    "    # Find map variable name\n",
    "    map_variable_name = find_map_variable_name(html)\n",
    "\n",
    "    # Find map variable name\n",
    "    popup_variable_name = find_popup_variable_name(html)\n",
    "\n",
    "    # Inject code\n",
    "    with open(map_file, 'w') as mapfile:\n",
    "        mapfile.write(\n",
    "            html[:pstart] +\\\n",
    "            custom_code(popup_variable_name, map_variable_name)+\\\n",
    "            html[pend:]\n",
    "        )"
   ]
  },
  {
   "cell_type": "code",
   "execution_count": 151,
   "metadata": {},
   "outputs": [],
   "source": [
    "# Import selenium packages\n",
    "from selenium import webdriver"
   ]
  },
  {
   "cell_type": "code",
   "execution_count": 154,
   "metadata": {},
   "outputs": [],
   "source": [
    "# Open the folium map selenium\n",
    "def open_folium_map(project_url, map_file):\n",
    "    driver = None\n",
    "    try:\n",
    "        driver = webdriver.Firefox()\n",
    "        driver.get(\n",
    "            project_url = map_file\n",
    "        )\n",
    "    except Exception as ex:\n",
    "        print('Driver failed ton open/find url: ', ex)\n",
    "\n",
    "    return driver"
   ]
  },
  {
   "cell_type": "code",
   "execution_count": 156,
   "metadata": {},
   "outputs": [
    {
     "name": "stdout",
     "output_type": "stream",
     "text": [
      "Driver failed ton open/find url:  Message: Service /snap/bin/geckodriver unexpectedly exited. Status code was: -6\n",
      "\n"
     ]
    }
   ],
   "source": [
    "center_coord = [32.23630130013652, -8.51364643783117]\n",
    "map_file = 'map_youssoufia.html'\n",
    "\n",
    "# Create the folium map\n",
    "create_folium_map(map_file, center_coord)\n",
    "\n",
    "# Open the folium map selenium\n",
    "project_map_url = 'file:///home/like/Documents/Projects/Youcode/Challenges/city_map_points/'\n",
    "driver = open_folium_map(project_map_url, map_file)\n",
    "import time\n",
    "\n",
    "# Run webserver that listen to sent coordinates\n",
    "\n",
    "# Close the folium map\n",
    "\n",
    "# Print all collected coords"
   ]
  }
 ],
 "metadata": {
  "kernelspec": {
   "display_name": "Python 3",
   "language": "python",
   "name": "python3"
  },
  "language_info": {
   "codemirror_mode": {
    "name": "ipython",
    "version": 3
   },
   "file_extension": ".py",
   "mimetype": "text/x-python",
   "name": "python",
   "nbconvert_exporter": "python",
   "pygments_lexer": "ipython3",
   "version": "3.10.6"
  },
  "orig_nbformat": 4
 },
 "nbformat": 4,
 "nbformat_minor": 2
}
