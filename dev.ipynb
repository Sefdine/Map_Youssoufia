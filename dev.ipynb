{
 "cells": [
  {
   "cell_type": "code",
   "execution_count": 2,
   "metadata": {},
   "outputs": [],
   "source": [
    "# Import pandas\n",
    "import pandas as pd\n",
    "\n",
    "df = pd.read_json('data.json')"
   ]
  },
  {
   "cell_type": "code",
   "execution_count": 2,
   "metadata": {},
   "outputs": [],
   "source": [
    "import geopandas as gpd\n",
    "import osmnx as ox\n",
    "\n",
    "place_name = \"Youssoufia, Morocco\"\n",
    "G = ox.graph_from_place(place_name, network_type='all_private')\n",
    "\n",
    "gdf = gpd.read_file('map.geojson')"
   ]
  },
  {
   "cell_type": "code",
   "execution_count": 11,
   "metadata": {},
   "outputs": [],
   "source": [
    "# Convert the graph to GeoDataFrames\n",
    "gdf_nodes, gdf_edges = ox.graph_to_gdfs(G)"
   ]
  },
  {
   "cell_type": "code",
   "execution_count": 34,
   "metadata": {},
   "outputs": [],
   "source": [
    "gdf_nodes.drop(gdf_nodes[gdf_nodes['highway'].isnull()].index, inplace=True)"
   ]
  },
  {
   "cell_type": "code",
   "execution_count": 52,
   "metadata": {},
   "outputs": [],
   "source": [
    "gdf.drop([0, 1], inplace=True)"
   ]
  },
  {
   "cell_type": "code",
   "execution_count": 57,
   "metadata": {},
   "outputs": [
    {
     "name": "stdout",
     "output_type": "stream",
     "text": [
      "<shapely.coords.CoordinateSequence object at 0x7f8b28e02860>\n",
      "<shapely.coords.CoordinateSequence object at 0x7f8b28e03640>\n",
      "<shapely.coords.CoordinateSequence object at 0x7f8b28e02860>\n",
      "<shapely.coords.CoordinateSequence object at 0x7f8b28e03640>\n",
      "<shapely.coords.CoordinateSequence object at 0x7f8b28e02860>\n",
      "<shapely.coords.CoordinateSequence object at 0x7f8b28e03640>\n"
     ]
    }
   ],
   "source": [
    "for x, y in gdf.iterrows():\n",
    "    print(y.geometry.coords)"
   ]
  },
  {
   "cell_type": "code",
   "execution_count": 54,
   "metadata": {},
   "outputs": [
    {
     "ename": "ValueError",
     "evalue": "Expected two (lat, lon) values for location, instead got: <shapely.coords.CoordinateSequence object at 0x7f8b28beba00>.",
     "output_type": "error",
     "traceback": [
      "\u001b[0;31m---------------------------------------------------------------------------\u001b[0m",
      "\u001b[0;31mValueError\u001b[0m                                Traceback (most recent call last)",
      "Cell \u001b[0;32mIn[54], line 12\u001b[0m\n\u001b[1;32m     10\u001b[0m \u001b[39m# Ajouter des endroits personnalisé\u001b[39;00m\n\u001b[1;32m     11\u001b[0m \u001b[39mfor\u001b[39;00m x, y \u001b[39min\u001b[39;00m gdf\u001b[39m.\u001b[39miterrows():\n\u001b[0;32m---> 12\u001b[0m     folium\u001b[39m.\u001b[39;49mMarker(location\u001b[39m=\u001b[39;49my\u001b[39m.\u001b[39;49mgeometry\u001b[39m.\u001b[39;49mcoords, popup\u001b[39m=\u001b[39;49my[\u001b[39m'\u001b[39;49m\u001b[39mname\u001b[39;49m\u001b[39m'\u001b[39;49m])\u001b[39m.\u001b[39madd_to(map_youssoufia)\n\u001b[1;32m     14\u001b[0m \u001b[39m# Ajouter les arêtes sur la carte\u001b[39;00m\n\u001b[1;32m     15\u001b[0m \u001b[39mfor\u001b[39;00m idx, edge \u001b[39min\u001b[39;00m gdf_edges\u001b[39m.\u001b[39miterrows():\n",
      "File \u001b[0;32m~/.local/lib/python3.10/site-packages/folium/map.py:326\u001b[0m, in \u001b[0;36mMarker.__init__\u001b[0;34m(self, location, popup, tooltip, icon, draggable, **kwargs)\u001b[0m\n\u001b[1;32m    324\u001b[0m \u001b[39msuper\u001b[39m()\u001b[39m.\u001b[39m\u001b[39m__init__\u001b[39m()\n\u001b[1;32m    325\u001b[0m \u001b[39mself\u001b[39m\u001b[39m.\u001b[39m_name \u001b[39m=\u001b[39m \u001b[39m\"\u001b[39m\u001b[39mMarker\u001b[39m\u001b[39m\"\u001b[39m\n\u001b[0;32m--> 326\u001b[0m \u001b[39mself\u001b[39m\u001b[39m.\u001b[39mlocation \u001b[39m=\u001b[39m validate_location(location) \u001b[39mif\u001b[39;00m location \u001b[39mis\u001b[39;00m \u001b[39mnot\u001b[39;00m \u001b[39mNone\u001b[39;00m \u001b[39melse\u001b[39;00m \u001b[39mNone\u001b[39;00m\n\u001b[1;32m    327\u001b[0m \u001b[39mself\u001b[39m\u001b[39m.\u001b[39moptions \u001b[39m=\u001b[39m parse_options(\n\u001b[1;32m    328\u001b[0m     draggable\u001b[39m=\u001b[39mdraggable \u001b[39mor\u001b[39;00m \u001b[39mNone\u001b[39;00m, autoPan\u001b[39m=\u001b[39mdraggable \u001b[39mor\u001b[39;00m \u001b[39mNone\u001b[39;00m, \u001b[39m*\u001b[39m\u001b[39m*\u001b[39mkwargs\n\u001b[1;32m    329\u001b[0m )\n\u001b[1;32m    330\u001b[0m \u001b[39mif\u001b[39;00m icon \u001b[39mis\u001b[39;00m \u001b[39mnot\u001b[39;00m \u001b[39mNone\u001b[39;00m:\n",
      "File \u001b[0;32m~/.local/lib/python3.10/site-packages/folium/utilities.py:54\u001b[0m, in \u001b[0;36mvalidate_location\u001b[0;34m(location)\u001b[0m\n\u001b[1;32m     48\u001b[0m     \u001b[39mraise\u001b[39;00m \u001b[39mTypeError\u001b[39;00m(\n\u001b[1;32m     49\u001b[0m         \u001b[39m\"\u001b[39m\u001b[39mLocation should be a sized variable, \u001b[39m\u001b[39m\"\u001b[39m\n\u001b[1;32m     50\u001b[0m         \u001b[39m\"\u001b[39m\u001b[39mfor example a list or a tuple, instead got \u001b[39m\u001b[39m\"\u001b[39m\n\u001b[1;32m     51\u001b[0m         \u001b[39m\"\u001b[39m\u001b[39m{!r}\u001b[39;00m\u001b[39m of type \u001b[39m\u001b[39m{}\u001b[39;00m\u001b[39m.\u001b[39m\u001b[39m\"\u001b[39m\u001b[39m.\u001b[39mformat(location, \u001b[39mtype\u001b[39m(location))\n\u001b[1;32m     52\u001b[0m     )\n\u001b[1;32m     53\u001b[0m \u001b[39mif\u001b[39;00m \u001b[39mlen\u001b[39m(location) \u001b[39m!=\u001b[39m \u001b[39m2\u001b[39m:\n\u001b[0;32m---> 54\u001b[0m     \u001b[39mraise\u001b[39;00m \u001b[39mValueError\u001b[39;00m(\n\u001b[1;32m     55\u001b[0m         \u001b[39m\"\u001b[39m\u001b[39mExpected two (lat, lon) values for location, \u001b[39m\u001b[39m\"\u001b[39m\n\u001b[1;32m     56\u001b[0m         \u001b[39m\"\u001b[39m\u001b[39minstead got: \u001b[39m\u001b[39m{!r}\u001b[39;00m\u001b[39m.\u001b[39m\u001b[39m\"\u001b[39m\u001b[39m.\u001b[39mformat(location)\n\u001b[1;32m     57\u001b[0m     )\n\u001b[1;32m     58\u001b[0m \u001b[39mtry\u001b[39;00m:\n\u001b[1;32m     59\u001b[0m     coords \u001b[39m=\u001b[39m (location[\u001b[39m0\u001b[39m], location[\u001b[39m1\u001b[39m])\n",
      "\u001b[0;31mValueError\u001b[0m: Expected two (lat, lon) values for location, instead got: <shapely.coords.CoordinateSequence object at 0x7f8b28beba00>."
     ]
    }
   ],
   "source": [
    "import folium\n",
    "\n",
    "# Créer une carte centrée sur Youssoufia\n",
    "map_youssoufia = folium.Map(location=[32.23630130013652, -8.51364643783117], zoom_start=13)\n",
    "\n",
    "tooltip = 'Click to see the picture'\n",
    "\n",
    "# Ajouter les nœuds sur la carte\n",
    "for idx, node in gdf_nodes.iterrows():\n",
    "    folium.Marker([node.geometry.y, node.geometry.x], popup=node['highway']).add_to(map_youssoufia)\n",
    "\n",
    "# Ajouter des endroits personnalisé\n",
    "for x, y in gdf.iterrows():\n",
    "    folium.Marker(location=y.geometry.coords, popup=y['name']).add_to(map_youssoufia)\n",
    "\n",
    "# Ajouter les arêtes sur la carte\n",
    "for idx, edge in gdf_edges.iterrows():\n",
    "    folium.PolyLine(locations=edge.geometry.coords, color='red').add_to(map_youssoufia)\n",
    "\n",
    "# Afficher la carte\n",
    "map_youssoufia"
   ]
  },
  {
   "cell_type": "code",
   "execution_count": 9,
   "metadata": {},
   "outputs": [
    {
     "data": {
      "text/html": [
       "<div style=\"width:100%;\"><div style=\"position:relative;width:100%;height:0;padding-bottom:60%;\"><span style=\"color:#565656\">Make this Notebook Trusted to load map: File -> Trust Notebook</span><iframe srcdoc=\"&lt;!DOCTYPE html&gt;\n",
       "&lt;html&gt;\n",
       "&lt;head&gt;\n",
       "    \n",
       "    &lt;meta http-equiv=&quot;content-type&quot; content=&quot;text/html; charset=UTF-8&quot; /&gt;\n",
       "    \n",
       "        &lt;script&gt;\n",
       "            L_NO_TOUCH = false;\n",
       "            L_DISABLE_3D = false;\n",
       "        &lt;/script&gt;\n",
       "    \n",
       "    &lt;style&gt;html, body {width: 100%;height: 100%;margin: 0;padding: 0;}&lt;/style&gt;\n",
       "    &lt;style&gt;#map {position:absolute;top:0;bottom:0;right:0;left:0;}&lt;/style&gt;\n",
       "    &lt;script src=&quot;https://cdn.jsdelivr.net/npm/leaflet@1.9.3/dist/leaflet.js&quot;&gt;&lt;/script&gt;\n",
       "    &lt;script src=&quot;https://code.jquery.com/jquery-1.12.4.min.js&quot;&gt;&lt;/script&gt;\n",
       "    &lt;script src=&quot;https://cdn.jsdelivr.net/npm/bootstrap@5.2.2/dist/js/bootstrap.bundle.min.js&quot;&gt;&lt;/script&gt;\n",
       "    &lt;script src=&quot;https://cdnjs.cloudflare.com/ajax/libs/Leaflet.awesome-markers/2.0.2/leaflet.awesome-markers.js&quot;&gt;&lt;/script&gt;\n",
       "    &lt;link rel=&quot;stylesheet&quot; href=&quot;https://cdn.jsdelivr.net/npm/leaflet@1.9.3/dist/leaflet.css&quot;/&gt;\n",
       "    &lt;link rel=&quot;stylesheet&quot; href=&quot;https://cdn.jsdelivr.net/npm/bootstrap@5.2.2/dist/css/bootstrap.min.css&quot;/&gt;\n",
       "    &lt;link rel=&quot;stylesheet&quot; href=&quot;https://netdna.bootstrapcdn.com/bootstrap/3.0.0/css/bootstrap.min.css&quot;/&gt;\n",
       "    &lt;link rel=&quot;stylesheet&quot; href=&quot;https://cdn.jsdelivr.net/npm/@fortawesome/fontawesome-free@6.2.0/css/all.min.css&quot;/&gt;\n",
       "    &lt;link rel=&quot;stylesheet&quot; href=&quot;https://cdnjs.cloudflare.com/ajax/libs/Leaflet.awesome-markers/2.0.2/leaflet.awesome-markers.css&quot;/&gt;\n",
       "    &lt;link rel=&quot;stylesheet&quot; href=&quot;https://cdn.jsdelivr.net/gh/python-visualization/folium/folium/templates/leaflet.awesome.rotate.min.css&quot;/&gt;\n",
       "    \n",
       "            &lt;meta name=&quot;viewport&quot; content=&quot;width=device-width,\n",
       "                initial-scale=1.0, maximum-scale=1.0, user-scalable=no&quot; /&gt;\n",
       "            &lt;style&gt;\n",
       "                #map_0033e6a28cb89b5349f318b0dab63812 {\n",
       "                    position: relative;\n",
       "                    width: 100.0%;\n",
       "                    height: 100.0%;\n",
       "                    left: 0.0%;\n",
       "                    top: 0.0%;\n",
       "                }\n",
       "                .leaflet-container { font-size: 1rem; }\n",
       "            &lt;/style&gt;\n",
       "        \n",
       "&lt;/head&gt;\n",
       "&lt;body&gt;\n",
       "    \n",
       "    \n",
       "            &lt;div class=&quot;folium-map&quot; id=&quot;map_0033e6a28cb89b5349f318b0dab63812&quot; &gt;&lt;/div&gt;\n",
       "        \n",
       "&lt;/body&gt;\n",
       "&lt;script&gt;\n",
       "    \n",
       "    \n",
       "            var map_0033e6a28cb89b5349f318b0dab63812 = L.map(\n",
       "                &quot;map_0033e6a28cb89b5349f318b0dab63812&quot;,\n",
       "                {\n",
       "                    center: [32.23630130013652, -8.51364643783117],\n",
       "                    crs: L.CRS.EPSG3857,\n",
       "                    zoom: 13,\n",
       "                    zoomControl: true,\n",
       "                    preferCanvas: false,\n",
       "                }\n",
       "            );\n",
       "\n",
       "            \n",
       "\n",
       "        \n",
       "    \n",
       "            var tile_layer_d8cceeb9d59a4c69f1fcb89e28e2c13f = L.tileLayer(\n",
       "                &quot;https://{s}.tile.openstreetmap.org/{z}/{x}/{y}.png&quot;,\n",
       "                {&quot;attribution&quot;: &quot;Data by \\u0026copy; \\u003ca target=\\&quot;_blank\\&quot; href=\\&quot;http://openstreetmap.org\\&quot;\\u003eOpenStreetMap\\u003c/a\\u003e, under \\u003ca target=\\&quot;_blank\\&quot; href=\\&quot;http://www.openstreetmap.org/copyright\\&quot;\\u003eODbL\\u003c/a\\u003e.&quot;, &quot;detectRetina&quot;: false, &quot;maxNativeZoom&quot;: 18, &quot;maxZoom&quot;: 18, &quot;minZoom&quot;: 0, &quot;noWrap&quot;: false, &quot;opacity&quot;: 1, &quot;subdomains&quot;: &quot;abc&quot;, &quot;tms&quot;: false}\n",
       "            ).addTo(map_0033e6a28cb89b5349f318b0dab63812);\n",
       "        \n",
       "    \n",
       "            var marker_01e0f2a8e26cae1df38a6aac91199d13 = L.marker(\n",
       "                [32.23630130013652, -8.51364643783117],\n",
       "                {}\n",
       "            ).addTo(map_0033e6a28cb89b5349f318b0dab63812);\n",
       "        \n",
       "    \n",
       "        var popup_65e63c4b588a9f80ba04c66a7061a948 = L.popup({&quot;maxWidth&quot;: &quot;100%&quot;});\n",
       "\n",
       "        \n",
       "            \n",
       "                var html_b55d45147afbca42a7e1e08df88ce38f = $(`&lt;div id=&quot;html_b55d45147afbca42a7e1e08df88ce38f&quot; style=&quot;width: 100.0%; height: 100.0%;&quot;&gt;Fatima Zahrae home&lt;/div&gt;`)[0];\n",
       "                popup_65e63c4b588a9f80ba04c66a7061a948.setContent(html_b55d45147afbca42a7e1e08df88ce38f);\n",
       "            \n",
       "        \n",
       "\n",
       "        marker_01e0f2a8e26cae1df38a6aac91199d13.bindPopup(popup_65e63c4b588a9f80ba04c66a7061a948)\n",
       "        ;\n",
       "\n",
       "        \n",
       "    \n",
       "&lt;/script&gt;\n",
       "&lt;/html&gt;\" style=\"position:absolute;width:100%;height:100%;left:0;top:0;border:none !important;\" allowfullscreen webkitallowfullscreen mozallowfullscreen></iframe></div></div>"
      ],
      "text/plain": [
       "<folium.folium.Map at 0x7fd51d708520>"
      ]
     },
     "execution_count": 9,
     "metadata": {},
     "output_type": "execute_result"
    }
   ],
   "source": [
    "import folium\n",
    "\n",
    "# Create a map centered on Youssoufia city in Morocco\n",
    "map_youssoufia = folium.Map(location=[32.23630130013652, -8.51364643783117], zoom_start=13)\n",
    "\n",
    "# Add a marker for a specific location (latitude, longitude)\n",
    "folium.Marker(location=[32.23630130013652, -8.51364643783117], popup='Fatima Zahrae home').add_to(map_youssoufia)\n",
    "\n",
    "# Display the map in the Jupyter Notebook\n",
    "map_youssoufia\n"
   ]
  }
 ],
 "metadata": {
  "kernelspec": {
   "display_name": "Python 3",
   "language": "python",
   "name": "python3"
  },
  "language_info": {
   "codemirror_mode": {
    "name": "ipython",
    "version": 3
   },
   "file_extension": ".py",
   "mimetype": "text/x-python",
   "name": "python",
   "nbconvert_exporter": "python",
   "pygments_lexer": "ipython3",
   "version": "3.10.6"
  },
  "orig_nbformat": 4
 },
 "nbformat": 4,
 "nbformat_minor": 2
}
